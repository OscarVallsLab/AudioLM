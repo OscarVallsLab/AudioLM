{
 "cells": [
  {
   "cell_type": "code",
   "execution_count": 4,
   "metadata": {},
   "outputs": [],
   "source": [
    "from audiolm_pytorch import AudioLMSoundStream"
   ]
  },
  {
   "cell_type": "code",
   "execution_count": 6,
   "metadata": {},
   "outputs": [
    {
     "ename": "AssertionError",
     "evalue": "if use_finite_scalar_quantizer is set to False, `codebook_size` must be set (and not `finite_scalar_quantizer_levels`)",
     "output_type": "error",
     "traceback": [
      "\u001b[0;31m---------------------------------------------------------------------------\u001b[0m",
      "\u001b[0;31mAssertionError\u001b[0m                            Traceback (most recent call last)",
      "Cell \u001b[0;32mIn[6], line 1\u001b[0m\n\u001b[0;32m----> 1\u001b[0m soundstream \u001b[38;5;241m=\u001b[39m \u001b[43mAudioLMSoundStream\u001b[49m\u001b[43m(\u001b[49m\u001b[43m)\u001b[49m \u001b[38;5;66;03m# say you want the hyperparameters as in Audio LM paper\u001b[39;00m\n",
      "File \u001b[0;32m~/dipsy_speech/AudioLM/audiolm_pytorch/soundstream.py:999\u001b[0m, in \u001b[0;36mAudioLMSoundStream\u001b[0;34m(strides, target_sample_hz, rq_num_quantizers, **kwargs)\u001b[0m\n\u001b[1;32m    993\u001b[0m \u001b[38;5;28;01mdef\u001b[39;00m \u001b[38;5;21mAudioLMSoundStream\u001b[39m(\n\u001b[1;32m    994\u001b[0m     strides \u001b[38;5;241m=\u001b[39m (\u001b[38;5;241m2\u001b[39m, \u001b[38;5;241m4\u001b[39m, \u001b[38;5;241m5\u001b[39m, \u001b[38;5;241m8\u001b[39m),\n\u001b[1;32m    995\u001b[0m     target_sample_hz \u001b[38;5;241m=\u001b[39m \u001b[38;5;241m16000\u001b[39m,\n\u001b[1;32m    996\u001b[0m     rq_num_quantizers \u001b[38;5;241m=\u001b[39m \u001b[38;5;241m12\u001b[39m,\n\u001b[1;32m    997\u001b[0m     \u001b[38;5;241m*\u001b[39m\u001b[38;5;241m*\u001b[39mkwargs\n\u001b[1;32m    998\u001b[0m ):\n\u001b[0;32m--> 999\u001b[0m     \u001b[38;5;28;01mreturn\u001b[39;00m \u001b[43mSoundStream\u001b[49m\u001b[43m(\u001b[49m\n\u001b[1;32m   1000\u001b[0m \u001b[43m        \u001b[49m\u001b[43mstrides\u001b[49m\u001b[43m \u001b[49m\u001b[38;5;241;43m=\u001b[39;49m\u001b[43m \u001b[49m\u001b[43mstrides\u001b[49m\u001b[43m,\u001b[49m\n\u001b[1;32m   1001\u001b[0m \u001b[43m        \u001b[49m\u001b[43mtarget_sample_hz\u001b[49m\u001b[43m \u001b[49m\u001b[38;5;241;43m=\u001b[39;49m\u001b[43m \u001b[49m\u001b[43mtarget_sample_hz\u001b[49m\u001b[43m,\u001b[49m\n\u001b[1;32m   1002\u001b[0m \u001b[43m        \u001b[49m\u001b[43mrq_num_quantizers\u001b[49m\u001b[43m \u001b[49m\u001b[38;5;241;43m=\u001b[39;49m\u001b[43m \u001b[49m\u001b[43mrq_num_quantizers\u001b[49m\u001b[43m,\u001b[49m\n\u001b[1;32m   1003\u001b[0m \u001b[43m        \u001b[49m\u001b[38;5;241;43m*\u001b[39;49m\u001b[38;5;241;43m*\u001b[39;49m\u001b[43mkwargs\u001b[49m\n\u001b[1;32m   1004\u001b[0m \u001b[43m    \u001b[49m\u001b[43m)\u001b[49m\n",
      "File \u001b[0;32m~/dipsy_speech/AudioLM/audiolm_pytorch/soundstream.py:589\u001b[0m, in \u001b[0;36mSoundStream.__init__\u001b[0;34m(self, channels, strides, channel_mults, codebook_dim, codebook_size, finite_scalar_quantizer_levels, rq_num_quantizers, rq_commitment_weight, rq_ema_decay, rq_quantize_dropout_multiple_of, rq_groups, rq_stochastic_sample_codes, rq_kwargs, use_lookup_free_quantizer, use_finite_scalar_quantizer, input_channels, discr_multi_scales, stft_normalized, enc_cycle_dilations, dec_cycle_dilations, multi_spectral_window_powers_of_two, multi_spectral_n_ffts, multi_spectral_n_mels, recon_loss_weight, multi_spectral_recon_loss_weight, adversarial_loss_weight, feature_loss_weight, quantize_dropout_cutoff_index, target_sample_hz, use_local_attn, attn_window_size, attn_dim_head, attn_heads, attn_depth, attn_xpos_scale_base, attn_dynamic_pos_bias, use_gate_loop_layers, squeeze_excite, complex_stft_discr_logits_abs, pad_mode, stft_discriminator, complex_stft_discr_kwargs)\u001b[0m\n\u001b[1;32m    586\u001b[0m     \u001b[38;5;28mself\u001b[39m\u001b[38;5;241m.\u001b[39mcodebook_size \u001b[38;5;241m=\u001b[39m \u001b[38;5;28mself\u001b[39m\u001b[38;5;241m.\u001b[39mrq\u001b[38;5;241m.\u001b[39mcodebook_size\n\u001b[1;32m    588\u001b[0m \u001b[38;5;28;01melse\u001b[39;00m:\n\u001b[0;32m--> 589\u001b[0m     \u001b[38;5;28;01massert\u001b[39;00m exists(codebook_size) \u001b[38;5;129;01mand\u001b[39;00m \u001b[38;5;129;01mnot\u001b[39;00m exists(finite_scalar_quantizer_levels), \u001b[38;5;124m'\u001b[39m\u001b[38;5;124mif use_finite_scalar_quantizer is set to False, `codebook_size` must be set (and not `finite_scalar_quantizer_levels`)\u001b[39m\u001b[38;5;124m'\u001b[39m\n\u001b[1;32m    590\u001b[0m     \u001b[38;5;28mself\u001b[39m\u001b[38;5;241m.\u001b[39mrq \u001b[38;5;241m=\u001b[39m GroupedResidualVQ(\n\u001b[1;32m    591\u001b[0m         dim \u001b[38;5;241m=\u001b[39m codebook_dim,\n\u001b[1;32m    592\u001b[0m         num_quantizers \u001b[38;5;241m=\u001b[39m rq_num_quantizers,\n\u001b[0;32m   (...)\u001b[0m\n\u001b[1;32m    603\u001b[0m         \u001b[38;5;241m*\u001b[39m\u001b[38;5;241m*\u001b[39mrq_kwargs\n\u001b[1;32m    604\u001b[0m     )\n\u001b[1;32m    606\u001b[0m     \u001b[38;5;28mself\u001b[39m\u001b[38;5;241m.\u001b[39mcodebook_size \u001b[38;5;241m=\u001b[39m codebook_size\n",
      "\u001b[0;31mAssertionError\u001b[0m: if use_finite_scalar_quantizer is set to False, `codebook_size` must be set (and not `finite_scalar_quantizer_levels`)"
     ]
    }
   ],
   "source": [
    "soundstream = AudioLMSoundStream() # say you want the hyperparameters as in Audio LM paper"
   ]
  }
 ],
 "metadata": {
  "kernelspec": {
   "display_name": "env",
   "language": "python",
   "name": "python3"
  },
  "language_info": {
   "codemirror_mode": {
    "name": "ipython",
    "version": 3
   },
   "file_extension": ".py",
   "mimetype": "text/x-python",
   "name": "python",
   "nbconvert_exporter": "python",
   "pygments_lexer": "ipython3",
   "version": "3.10.12"
  }
 },
 "nbformat": 4,
 "nbformat_minor": 2
}
